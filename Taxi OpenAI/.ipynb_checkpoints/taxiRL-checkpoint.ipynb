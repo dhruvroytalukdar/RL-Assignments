{
 "cells": [
  {
   "cell_type": "code",
   "execution_count": 1,
   "id": "f17df74c-95eb-4408-99b1-a78411ae8716",
   "metadata": {},
   "outputs": [],
   "source": [
    "import numpy as np\n",
    "import gym\n",
    "import random"
   ]
  },
  {
   "cell_type": "code",
   "execution_count": 2,
   "id": "f19476c5-70cd-4436-99d0-33fa4de4fc17",
   "metadata": {
    "tags": []
   },
   "outputs": [],
   "source": [
    "env = gym.make('Taxi-v3',render_mode=\"ansi\")\n",
    "num_steps = 15000\n",
    "\n",
    "# learning rate similar to supervised learning\n",
    "alpha = 0.15\n",
    "# parameter on how much to emphasize future gains\n",
    "gamma = 0.6\n",
    "# parameter to control exploitation/exploration\n",
    "epsilon = 0.1"
   ]
  },
  {
   "cell_type": "code",
   "execution_count": 3,
   "id": "2bfb2906-b085-42ac-a14d-1e280b37cfa2",
   "metadata": {},
   "outputs": [],
   "source": [
    "q_table = np.zeros((env.observation_space.n, env.action_space.n))"
   ]
  },
  {
   "cell_type": "code",
   "execution_count": 4,
   "id": "066213b2-7205-4746-a78e-8b68c6cee172",
   "metadata": {},
   "outputs": [
    {
     "name": "stdout",
     "output_type": "stream",
     "text": [
      "Training finished\n"
     ]
    }
   ],
   "source": [
    "for i in range(num_steps):\n",
    "    state, info = env.reset()\n",
    "    done = False\n",
    "    while not done:\n",
    "        # Choose best possible action\n",
    "        # Used epsilon to introduce exploration\n",
    "        if random.random() < epsilon:\n",
    "            action = env.action_space.sample()\n",
    "        else:\n",
    "            action = np.argmax(q_table[state, :])\n",
    "\n",
    "        # Do the action\n",
    "        next_state, reward, done, _, info = env.step(action)\n",
    "\n",
    "        # Update q-table\n",
    "        new_q_value = (1-alpha)*q_table[state, action] + \\\n",
    "            alpha*(reward + gamma*np.max(q_table[next_state, :]))\n",
    "\n",
    "        # Assign new values and go the next state\n",
    "        q_table[state, action] = new_q_value\n",
    "        state = next_state\n",
    "        \n",
    "print(\"Training finished\")"
   ]
  },
  {
   "cell_type": "code",
   "execution_count": 6,
   "id": "4877a707-96bd-4f27-b7e5-b579fef2edfa",
   "metadata": {},
   "outputs": [
    {
     "name": "stdout",
     "output_type": "stream",
     "text": [
      "+---------+\n",
      "|R: | : :G|\n",
      "| : | : : |\n",
      "| : : : : |\n",
      "| | : | : |\n",
      "|Y| : |\u001b[35m\u001b[34;1m\u001b[43mB\u001b[0m\u001b[0m\u001b[0m: |\n",
      "+---------+\n",
      "  (Dropoff)\n",
      "\n",
      "Total penalty 0 and no. of steps is 13\n"
     ]
    }
   ],
   "source": [
    "from IPython.display import clear_output\n",
    "import time\n",
    "\n",
    "done = False\n",
    "state,info = env.reset()\n",
    "total_penalty = 0\n",
    "steps = 0\n",
    "\n",
    "while not done:\n",
    "    clear_output(wait=True)\n",
    "    time.sleep(0.5)\n",
    "    \n",
    "    steps += 1\n",
    "    action = np.argmax(q_table[state,:])\n",
    "    next_state,reward,done,_,info = env.step(action)\n",
    "    \n",
    "    if reward == -10:\n",
    "        total_penalty += 1\n",
    "    state = next_state\n",
    "    print(env.render())\n",
    "    \n",
    "print(f\"Total penalty {total_penalty} and no. of steps is {steps}\")\n",
    "env.close()"
   ]
  },
  {
   "cell_type": "code",
   "execution_count": null,
   "id": "a40f0a2e-22d0-46d7-b743-08f15bccfb8f",
   "metadata": {},
   "outputs": [],
   "source": []
  }
 ],
 "metadata": {
  "kernelspec": {
   "display_name": "Python 3 (ipykernel)",
   "language": "python",
   "name": "python3"
  },
  "language_info": {
   "codemirror_mode": {
    "name": "ipython",
    "version": 3
   },
   "file_extension": ".py",
   "mimetype": "text/x-python",
   "name": "python",
   "nbconvert_exporter": "python",
   "pygments_lexer": "ipython3",
   "version": "3.10.8"
  }
 },
 "nbformat": 4,
 "nbformat_minor": 5
}
