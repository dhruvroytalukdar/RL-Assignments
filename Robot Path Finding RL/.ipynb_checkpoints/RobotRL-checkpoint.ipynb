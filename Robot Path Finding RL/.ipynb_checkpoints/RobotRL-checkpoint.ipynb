{
 "cells": [
  {
   "cell_type": "code",
   "execution_count": 1,
   "id": "91afe7b7-6629-422d-a15b-c469a8d66f78",
   "metadata": {},
   "outputs": [],
   "source": [
    "import numpy as np\n",
    "import gym\n",
    "import random\n",
    "from IPython.display import clear_output\n",
    "import time\n",
    "from matplotlib import pyplot as plt\n",
    "from matplotlib import patches as patches\n",
    "from tqdm.notebook import tqdm"
   ]
  },
  {
   "cell_type": "markdown",
   "id": "35924722-164c-4f51-bdd8-5af223deb00d",
   "metadata": {
    "tags": []
   },
   "source": [
    "# Creating the environment"
   ]
  },
  {
   "cell_type": "code",
   "execution_count": 42,
   "id": "6605f012-9171-4697-aeea-27780aa3de1f",
   "metadata": {},
   "outputs": [],
   "source": [
    "# Making the environment\n",
    "# [X] reset() -> generate random environment and return a state\n",
    "# [X] random_step() -> performs a random action and returns the next_state,reward,done\n",
    "# [X] step(action) -> performs the given action and returns the next_state,reward,done\n",
    "\n",
    "class GridEnv:\n",
    "    \n",
    "    def __init__(self,rows=None,cols=None,block_prob=0.1,grid=[]):\n",
    "        if len(grid) > 0:\n",
    "            self.grid = np.array(grid)\n",
    "            self.rows = len(self.grid)\n",
    "            self.cols = len(self.grid[0,:])\n",
    "            self.block_prob = None\n",
    "        else:\n",
    "            self.rows = rows\n",
    "            self.cols = cols\n",
    "            self.block_prob = block_prob\n",
    "        \n",
    "        self.observation_space = np.empty((0))\n",
    "        for i in range(self.rows * self.cols):\n",
    "            self.observation_space = np.append(self.observation_space, i)\n",
    "        \n",
    "        # Top = 0\n",
    "        # Bottom = 1\n",
    "        # Left = 2\n",
    "        # Right = 3\n",
    "        self.action_space = [0,1,2,3]\n",
    "        self.dx = [-1,0,1,0]\n",
    "        self.dy = [0,1,0,-1]\n",
    "        \n",
    "        self.uturn = 0\n",
    "        self.turn = 0\n",
    "        self.length = 0\n",
    "        self.penalty = 0\n",
    "        self.c_x = []\n",
    "        self.c_y = []\n",
    "    \n",
    "    def random_step(self):\n",
    "        return random.choice(self.action_space)\n",
    "    \n",
    "    def reset(self):\n",
    "        if self.block_prob != None:\n",
    "            self._generate_random_grid()\n",
    "        self.state = 0\n",
    "        self.posX = 0\n",
    "        self.posY = 0\n",
    "        self.prevAction = None\n",
    "        self.done = False\n",
    "        self.uturn = 0\n",
    "        self.turn = 0\n",
    "        self.length = 0\n",
    "        self.penalty = 0\n",
    "        return self.state\n",
    "    \n",
    "    def step(self,action):\n",
    "        reward = 0\n",
    "        uturn_penalty = -3\n",
    "        turn_penalty = -3\n",
    "        length_penalty = -2\n",
    "        done = False\n",
    "        if action == 0:\n",
    "            # if it is over top bounds\n",
    "            if self.posX + 1 == self.rows:\n",
    "                reward = -10\n",
    "                self.penalty += 1\n",
    "            # if there is a blocked cell\n",
    "            elif self.grid[self.posX + 1,self.posY] == 1:\n",
    "                reward = -10\n",
    "                self.penalty += 1\n",
    "            # check for u-turn\n",
    "            elif self.prevAction == 1:\n",
    "                reward = uturn_penalty\n",
    "                self.posX += 1\n",
    "                self.state = self.posX * self.rows + self.posY\n",
    "                self.uturn += 1\n",
    "            # check for turns\n",
    "            elif self.prevAction == 2 or self.prevAction == 3:\n",
    "                reward = turn_penalty\n",
    "                self.posX += 1\n",
    "                self.state = self.posX * self.rows + self.posY\n",
    "                self.turn += 1\n",
    "            else:\n",
    "                self.posX += 1\n",
    "                self.state = self.posX * self.rows + self.posY\n",
    "                reward = length_penalty\n",
    "        elif action == 1:\n",
    "            # if it is below bottom bounds\n",
    "            if self.posX - 1 == -1:\n",
    "                reward = -10\n",
    "                self.penalty += 1\n",
    "            # if there is a blocked cell\n",
    "            elif self.grid[self.posX - 1,self.posY] == 1:\n",
    "                reward = -10\n",
    "                self.penalty += 1\n",
    "            # check for u-turn\n",
    "            elif self.prevAction == 0:\n",
    "                reward = uturn_penalty\n",
    "                self.posX -= 1\n",
    "                self.state = self.posX * self.rows + self.posY\n",
    "                self.uturn += 1\n",
    "            # check for turns\n",
    "            elif self.prevAction == 2 or self.prevAction == 3:\n",
    "                reward = turn_penalty\n",
    "                self.posX -= 1\n",
    "                self.turn += 1\n",
    "                self.state = self.posX * self.rows + self.posY\n",
    "            else:\n",
    "                self.posX -= 1\n",
    "                self.state = self.posX * self.rows + self.posY\n",
    "                reward = length_penalty\n",
    "        elif action == 2:\n",
    "            # if it is left of left bounds\n",
    "            if self.posY - 1 == -1:\n",
    "                reward = -10\n",
    "                self.penalty += 1\n",
    "            # if there is a blocked cell\n",
    "            elif self.grid[self.posX,self.posY - 1] == 1:\n",
    "                reward = -10\n",
    "                self.penalty += 1\n",
    "            # check for u-turn\n",
    "            elif self.prevAction == 3:\n",
    "                reward = uturn_penalty\n",
    "                self.posY -= 1\n",
    "                self.uturn += 1\n",
    "                self.state = self.posX * self.rows + self.posY\n",
    "            # check for turns\n",
    "            elif self.prevAction == 0 or self.prevAction == 1:\n",
    "                reward = turn_penalty\n",
    "                self.posY -= 1\n",
    "                self.turn += 1\n",
    "                self.state = self.posX * self.rows + self.posY\n",
    "            else:\n",
    "                self.posY -= 1\n",
    "                self.state = self.posX * self.rows + self.posY\n",
    "                reward = length_penalty\n",
    "        else:\n",
    "            # if it is right of right bounds\n",
    "            if self.posY + 1 == self.cols:\n",
    "                reward = -10\n",
    "                self.penalty += 1\n",
    "            # if there is a blocked cell\n",
    "            elif self.grid[self.posX,self.posY + 1] == 1:\n",
    "                reward = -10\n",
    "                self.penalty += 1\n",
    "            # check for u-turn\n",
    "            elif self.prevAction == 2:\n",
    "                reward = uturn_penalty\n",
    "                self.uturn += 1\n",
    "                self.posY += 1\n",
    "                self.state = self.posX * self.rows + self.posY\n",
    "            # check for turns\n",
    "            elif self.prevAction == 0 or self.prevAction == 1:\n",
    "                reward = turn_penalty\n",
    "                self.posY += 1\n",
    "                self.turn += 1\n",
    "                self.state = self.posX * self.rows + self.posY\n",
    "            else:\n",
    "                self.posY += 1\n",
    "                self.state = self.posX * self.rows + self.posY\n",
    "                reward = length_penalty\n",
    "                \n",
    "        if self.state == (self.rows * self.cols - 1):\n",
    "            done = True\n",
    "            \n",
    "        if reward != -10:\n",
    "            self.prevAction = action\n",
    "            self.length += 1\n",
    "        return self.state, reward, done\n",
    "        \n",
    "    def dfs(self,pos,visited):\n",
    "        if pos[0] == self.rows-1 and pos[1] == self.cols-1:\n",
    "            return True\n",
    "        visited[pos[0],pos[1]] = 1\n",
    "        found = False\n",
    "        for x,y in zip(self.dx,self.dy):\n",
    "            newX = pos[0] + x\n",
    "            newY = pos[1] + y\n",
    "            if newX < 0 or newX == self.rows or newY < 0 or newY == self.cols:\n",
    "                continue\n",
    "            elif self.grid[newX,newY] == 1:\n",
    "                continue\n",
    "            elif visited[newX,newY] == 0:\n",
    "                found |= self.dfs((newX,newY),visited)\n",
    "                if found:\n",
    "                    return True\n",
    "        return found\n",
    "        \n",
    "    def restart(self):\n",
    "        self.posX = 0\n",
    "        self.posY = 0\n",
    "        self.state = 0\n",
    "        self.prevAction = None\n",
    "        self.done = False\n",
    "        self.uturn = 0\n",
    "        self.turn = 0\n",
    "        self.length = 0\n",
    "        self.penalty = 0\n",
    "        return self.state\n",
    "        \n",
    "    def _generate_random_grid(self):\n",
    "        done = False\n",
    "        while not done:\n",
    "            self.grid = np.zeros((self.rows,self.cols))\n",
    "            for i in range(self.rows):\n",
    "                for j in range(self.cols):\n",
    "                    if random.random() < self.block_prob:\n",
    "                        self.grid[i,j] = 1\n",
    "            self.grid[0,0] = 0\n",
    "            self.grid[self.rows-1,self.cols-1] = 0\n",
    "            \n",
    "            # DFS\n",
    "            visited = np.zeros((self.rows,self.cols))\n",
    "            start = (0,0)\n",
    "            done = self.dfs(start,visited)\n",
    "    \n",
    "    def _generate_figure(self):\n",
    "        x = 5.0\n",
    "        y = 5.0\n",
    "        a = 10.0\n",
    "        for i in range(0,self.rows):\n",
    "            for j in range(0,self.cols):\n",
    "                if self.grid[i,j] == 0:\n",
    "                    plt.gca().add_patch(patches.Rectangle((x, y),a,a,fill = False))\n",
    "                    self.c_x.append(x+5.0)\n",
    "                    self.c_y.append(y+5.0)\n",
    "                else:\n",
    "                    plt.gca().add_patch(patches.Rectangle((x, y),a,a))\n",
    "                    self.c_x.append(x+5.0)\n",
    "                    self.c_y.append(y+5.0)\n",
    "                x = x + 10.0\n",
    "            y = y - 10.0\n",
    "            x = x - (j+1)*10.0\n",
    "    \n",
    "    def plot(self,best):\n",
    "        self._generate_figure()\n",
    "        path_x = []\n",
    "        path_y = []\n",
    "        for k in range(0,len(best)):\n",
    "            path_x.append(self.c_x[best[k]])\n",
    "            path_y.append(self.c_y[best[k]])\n",
    "            \n",
    "        for i in range(0,len(self.c_x)):\n",
    "            if i in best:\n",
    "                plt.scatter(self.c_x[i],self.c_y[i],c = \"black\")\n",
    "        plt.plot(path_x,path_y,'k')\n",
    "    \n",
    "    def render(self):\n",
    "        for i in range(self.rows):\n",
    "            print(':',end='')\n",
    "            for j in range(self.cols):\n",
    "                if self.posX == i and self.posY == j:\n",
    "                    print('#',end=':')\n",
    "                elif (i == 0 and j == 0) or (i == self.rows-1 and j == self.cols-1):\n",
    "                    print('$',end=':')\n",
    "                elif self.grid[i,j] == 1:\n",
    "                    print('0',end=':')\n",
    "                else:\n",
    "                    print(' ',end=':')\n",
    "            print()\n",
    "            if i != self.rows-1:\n",
    "                print(' ',end='')\n",
    "                for j in range(self.cols):\n",
    "                    print('-',end=' ')\n",
    "                print()"
   ]
  },
  {
   "cell_type": "markdown",
   "id": "e9ae8ba8-a44c-4a6f-ad2c-ce2c5cb564fe",
   "metadata": {
    "tags": []
   },
   "source": [
    "# Initializing the environment"
   ]
  },
  {
   "cell_type": "code",
   "execution_count": 43,
   "id": "929fe018-45b8-48b8-b5c6-2b90bdbbb400",
   "metadata": {},
   "outputs": [
    {
     "name": "stdout",
     "output_type": "stream",
     "text": [
      ":#: :0: : : : : : :0:\n",
      " - - - - - - - - - - \n",
      ": : : : : :0: : :0:0:\n",
      " - - - - - - - - - - \n",
      ":0: : : :0: : : : :0:\n",
      " - - - - - - - - - - \n",
      ": : : : : : : :0:0: :\n",
      " - - - - - - - - - - \n",
      ": : : :0: : :0:0: : :\n",
      " - - - - - - - - - - \n",
      ": : : : : : : : : :0:\n",
      " - - - - - - - - - - \n",
      ": : : : : : : : :0: :\n",
      " - - - - - - - - - - \n",
      ":0: : : : : : : : : :\n",
      " - - - - - - - - - - \n",
      ": :0:0: : : : : : : :\n",
      " - - - - - - - - - - \n",
      ": : : :0: : : : : :$:\n"
     ]
    }
   ],
   "source": [
    "env = GridEnv(rows=10,cols=10,block_prob=0.2)\n",
    "state = env.reset()\n",
    "env.render()"
   ]
  },
  {
   "cell_type": "markdown",
   "id": "1b8b7c6b-7d00-49da-8202-f0b58fc98380",
   "metadata": {
    "tags": []
   },
   "source": [
    "# Declaring environment parameters"
   ]
  },
  {
   "cell_type": "code",
   "execution_count": 61,
   "id": "384ff4a6-ab4b-4648-814b-eb18d9cfe13a",
   "metadata": {},
   "outputs": [],
   "source": [
    "# learning rate similar to supervised learning\n",
    "alpha = 0.15\n",
    "# parameter on how much to emphasize future gains\n",
    "gamma = 0.75\n",
    "# parameter to control exploitation/exploration\n",
    "epsilon = 0.001\n",
    "\n",
    "num_steps = 25000\n",
    "\n",
    "q_table = np.zeros((len(env.observation_space), len(env.action_space)))"
   ]
  },
  {
   "cell_type": "markdown",
   "id": "b2c24a35-b34b-4916-a755-89b03d733524",
   "metadata": {
    "tags": []
   },
   "source": [
    "# Training"
   ]
  },
  {
   "cell_type": "code",
   "execution_count": 62,
   "id": "ad5b1744-eb0f-4224-9f16-854f21a71519",
   "metadata": {},
   "outputs": [
    {
     "data": {
      "application/vnd.jupyter.widget-view+json": {
       "model_id": "de9bb144b07e4906b756f78407b55618",
       "version_major": 2,
       "version_minor": 0
      },
      "text/plain": [
       "  0%|          | 0/25000 [00:00<?, ?it/s]"
      ]
     },
     "metadata": {},
     "output_type": "display_data"
    },
    {
     "name": "stdout",
     "output_type": "stream",
     "text": [
      "Training finished\n"
     ]
    }
   ],
   "source": [
    "penalty_list = []\n",
    "path_length_list = []\n",
    "turn_list = []\n",
    "uturn_list = []\n",
    "\n",
    "for i in tqdm(range(num_steps)):\n",
    "    state = env.restart()\n",
    "    done = False\n",
    "    while not done:\n",
    "        # Choose best possible action\n",
    "        # Used epsilon to introduce exploration\n",
    "        if random.random() < epsilon:\n",
    "            action = env.random_step()\n",
    "        else:\n",
    "            action = np.argmax(q_table[state, :])\n",
    "        \n",
    "        # action = np.argmax(q_table[state, :])\n",
    "        \n",
    "        # Do the action\n",
    "        next_state, reward, done = env.step(action)\n",
    "\n",
    "        # Update q-table\n",
    "        new_q_value = (1-alpha)*q_table[state, action] + \\\n",
    "            alpha*(reward + gamma*np.max(q_table[next_state, :]))\n",
    "\n",
    "        # Assign new values and go the next state\n",
    "        q_table[state, action] = new_q_value\n",
    "        state = next_state\n",
    "        epsilon -= 0.00000001\n",
    "    \n",
    "    penalty_list.append(env.penalty)\n",
    "    turn_list.append(env.turn)\n",
    "    uturn_list.append(env.uturn)\n",
    "    path_length_list.append(env.length)\n",
    "        \n",
    "print(\"Training finished\")"
   ]
  },
  {
   "cell_type": "markdown",
   "id": "7e6adbac-e653-46d2-95e8-2bf6bc276676",
   "metadata": {
    "tags": []
   },
   "source": [
    "# Visualizing the best path"
   ]
  },
  {
   "cell_type": "code",
   "execution_count": 63,
   "id": "2f543221-ecd1-40bd-9b16-b56d7b019041",
   "metadata": {},
   "outputs": [
    {
     "name": "stdout",
     "output_type": "stream",
     "text": [
      "Total penalty => 0\n",
      "Steps => 18\n",
      "Turns => 3\n",
      "U-turns => 0\n"
     ]
    },
    {
     "data": {
      "image/png": "[encoded data removed]",
      "text/plain": [
       "<Figure size 640x480 with 1 Axes>"
      ]
     },
     "metadata": {},
     "output_type": "display_data"
    }
   ],
   "source": [
    "done = False\n",
    "state = env.restart()\n",
    "best = []\n",
    "\n",
    "while not done:\n",
    "    # clear_output(wait=True)\n",
    "    # time.sleep(0.5)\n",
    "    \n",
    "    best.append(state)\n",
    "    action = np.argmax(q_table[state,:])\n",
    "    next_state,reward,done = env.step(action)\n",
    "    \n",
    "    state = next_state\n",
    "    # env.render()\n",
    "    \n",
    "best.append(state)\n",
    "env.plot(best)\n",
    "print(f\"Total penalty => {env.penalty}\\nSteps => {env.length}\\nTurns => {env.turn}\\nU-turns => {env.uturn}\")"
   ]
  },
  {
   "cell_type": "markdown",
   "id": "463cfdad-4157-4779-97c9-7c3af6fcff5b",
   "metadata": {},
   "source": [
    "# Plots and analytics"
   ]
  },
  {
   "cell_type": "markdown",
   "id": "80da341f-bef7-4191-bf6f-a7ae82fcd830",
   "metadata": {
    "tags": []
   },
   "source": [
    "## Total penalty"
   ]
  },
  {
   "cell_type": "code",
   "execution_count": 64,
   "id": "016148ac-bd1d-48d8-9383-46e1e552490a",
   "metadata": {},
   "outputs": [
    {
     "data": {
      "image/png": "[encoded data removed]",
      "text/plain": [
       "<Figure size 640x480 with 1 Axes>"
      ]
     },
     "metadata": {},
     "output_type": "display_data"
    }
   ],
   "source": [
    "from matplotlib import pyplot as plt\n",
    "\n",
    "plt.plot(penalty_list,color=\"red\")\n",
    "plt.title(\"Total Penalty vs Generation\")\n",
    "plt.xlabel(\"Generation\")\n",
    "plt.ylabel(\"Penalties\")\n",
    "plt.show()"
   ]
  },
  {
   "cell_type": "markdown",
   "id": "35fcced1-c0a3-43a2-8a48-13cacbf92ae5",
   "metadata": {
    "tags": []
   },
   "source": [
    "## Number of Turns"
   ]
  },
  {
   "cell_type": "code",
   "execution_count": 59,
   "id": "7c934772-57af-4cb6-bf0e-2bc9388c6657",
   "metadata": {},
   "outputs": [
    {
     "data": {
      "image/png": "[encoded data removed]",
      "text/plain": [
       "<Figure size 640x480 with 1 Axes>"
      ]
     },
     "metadata": {},
     "output_type": "display_data"
    }
   ],
   "source": [
    "from matplotlib import pyplot as plt\n",
    "\n",
    "plt.plot(turn_list,color=\"green\")\n",
    "plt.title(\"No. of Turns vs Generation\")\n",
    "plt.xlabel(\"Generation\")\n",
    "plt.ylabel(\"No. of turns\")\n",
    "plt.show()"
   ]
  },
  {
   "cell_type": "markdown",
   "id": "af113958-1594-451a-9b9a-ec285feda9f4",
   "metadata": {
    "tags": []
   },
   "source": [
    "## Number of U-Turns"
   ]
  },
  {
   "cell_type": "code",
   "execution_count": 54,
   "id": "46addda9-3319-4305-8a10-788db5fd7153",
   "metadata": {},
   "outputs": [
    {
     "data": {
      "image/png": "[encoded data removed]",
      "text/plain": [
       "<Figure size 640x480 with 1 Axes>"
      ]
     },
     "metadata": {},
     "output_type": "display_data"
    }
   ],
   "source": [
    "from matplotlib import pyplot as plt\n",
    "\n",
    "plt.plot(uturn_list,color=\"blue\")\n",
    "plt.title(\"No. of U-Turns vs Generation\")\n",
    "plt.xlabel(\"Generation\")\n",
    "plt.ylabel(\"No. of U-Turns\")\n",
    "plt.show()"
   ]
  },
  {
   "cell_type": "markdown",
   "id": "97426af7-3ca8-48f1-834d-f685047c1dda",
   "metadata": {
    "jp-MarkdownHeadingCollapsed": true,
    "tags": []
   },
   "source": [
    "## Path length"
   ]
  },
  {
   "cell_type": "code",
   "execution_count": 25,
   "id": "db49ed1a-d9c3-4476-b2d1-673bad3da0cf",
   "metadata": {},
   "outputs": [
    {
     "data": {
      "image/png": "[encoded data removed]",
      "text/plain": [
       "<Figure size 640x480 with 1 Axes>"
      ]
     },
     "metadata": {},
     "output_type": "display_data"
    }
   ],
   "source": [
    "from matplotlib import pyplot as plt\n",
    "\n",
    "plt.plot(uturn_list,color=\"orange\")\n",
    "plt.title(\"Path length vs Generation\")\n",
    "plt.xlabel(\"Generation\")\n",
    "plt.ylabel(\"Path Length\")\n",
    "plt.show()"
   ]
  },
  {
   "cell_type": "markdown",
   "id": "275706da-0102-487d-9706-a265993cc769",
   "metadata": {
    "jp-MarkdownHeadingCollapsed": true,
    "tags": []
   },
   "source": [
    "# Using custom environment"
   ]
  },
  {
   "cell_type": "code",
   "execution_count": 36,
   "id": "0f594831-7b79-4c37-9cd7-f914ee1c3e62",
   "metadata": {},
   "outputs": [],
   "source": [
    "obs = [304,305,306,307,308,309,310,311,312,313,314,315,365,415,465,515,565,615,\n",
    "       665,715,765,815,865,915,965,1015,1065,1064,1063,1062,1061,1060,1059,1058,\n",
    "       1057,1056,1055,1054,1004,1005,1006,1007,1008,1009,1010,1011,1012,1013,\n",
    "       1014,354,355,356,357,358,359,360,361,362,363,364,414,464,514,564,614,\n",
    "       664,714,764,814,864,914,964,954,955,956,957,958,959,960,961,962,963,404,\n",
    "       405,406,407,408,409,410,411,412,413,463,513,563,613,663,713,763,813,863,\n",
    "       913,963,1404,1405,1406,1407,1408,1409,1410,1411,1412,1413,1414,1415,1465,\n",
    "       1515,1565,1615,1665,1715,1765,1815,1865,1915,1965,2015,2065,2115,2165,\n",
    "       2164,2163,2162,2161,2160,2159,2158,2157,2156,2155,2154,1454,1455,1456,\n",
    "       1457,1458,1459,1460,1461,1462,1463,1464,1514,1564,1614,1664,1714,1764,\n",
    "       1814,1864,1914,1964,2014,2064,2114,2113,2112,2111,2110,2109,2108,2107,\n",
    "       2106,2105,2104,2054,2055,2056,2057,2058,2059,2060,2061,2062,2063,1504,\n",
    "       1505,1506,1507,1508,1509,1510,1511,1512,1513,1563,1613,1663,1713,1763,\n",
    "       1813,1863,1913,1963,2013,2063,2062,2061,2060,2059,2058,2057,2056,2055,\n",
    "       2054,333,334,335,336,337,338,339,340,341,342,343,344,345,383,384,385,386,387,\n",
    "       388,389,390,391,392,393,394,395,433,434,435,436,437,438,439,440,441,442,\n",
    "       443,444,445,483,484,485,533,534,535,583,584,585,633,634,635,683,684,685,\n",
    "       733,734,735,783,784,785,833,834,835,883,884,885,933,934,935,983,984,985,\n",
    "       986,987,988,989,990,991,992,993,994,995,1033,1034,1035,1036,1037,1038,\n",
    "       1039,1040,1041,1042,1043,1044,1045,1083,1084,1085,1086,1087,1088,1089,\n",
    "       1090,1091,1092,1093,1094,1095,1433,1434,1435,1436,1437,1438,1439,1440,\n",
    "       1441,1442,1443,1444,1445,1483,1484,1485,1486,1487,1488,1489,1490,1491,\n",
    "       1492,1493,1494,1495,1533,1534,1535,1536,1537,1538,1539,1540,1541,1542,\n",
    "       1543,1544,1545,1583,1584,1585,1633,1634,1635,1683,1684,1685,1733,1734,\n",
    "       1735,1783,1784,1785,1833,1834,1835,1883,1884,1885,1933,1934,1935,1983,\n",
    "       1984,1985,2033,2034,2035,2083,2084,2085,2086,2087,2088,2089,2090,2091,\n",
    "       2092,2093,2094,2095,2133,2134,2135,2136,2137,2138,2139,2140,2141,2142,\n",
    "       2143,2144,2145,2183,2184,2185,2186,2187,2188,2189,2190,2191,2192,2193,\n",
    "       2194,2195]\n",
    "\n",
    "ROWS = 50\n",
    "COLS = 50\n",
    "obstacle_matrix = np.zeros((ROWS,COLS))\n",
    "\n",
    "for index in obs:\n",
    "    r = index//ROWS\n",
    "    c = index%ROWS\n",
    "    obstacle_matrix[r,c] = 1"
   ]
  },
  {
   "cell_type": "markdown",
   "id": "515ea5b1-b740-435c-b2d1-7d2dd9411f01",
   "metadata": {
    "jp-MarkdownHeadingCollapsed": true,
    "tags": []
   },
   "source": [
    "# Declare environment with obstacle matrix"
   ]
  },
  {
   "cell_type": "code",
   "execution_count": 37,
   "id": "683328c3-097b-4ecd-9476-f586cf51b89c",
   "metadata": {},
   "outputs": [],
   "source": [
    "env = GridEnv(grid=obstacle_matrix)\n",
    "state = env.reset()"
   ]
  }
 ],
 "metadata": {
  "kernelspec": {
   "display_name": "Python 3 (ipykernel)",
   "language": "python",
   "name": "python3"
  },
  "language_info": {
   "codemirror_mode": {
    "name": "ipython",
    "version": 3
   },
   "file_extension": ".py",
   "mimetype": "text/x-python",
   "name": "python",
   "nbconvert_exporter": "python",
   "pygments_lexer": "ipython3",
   "version": "3.10.8"
  }
 },
 "nbformat": 4,
 "nbformat_minor": 5
}
